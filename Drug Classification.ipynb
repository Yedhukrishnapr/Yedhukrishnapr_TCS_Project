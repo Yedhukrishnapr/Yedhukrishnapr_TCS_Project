{
 "cells": [
  {
   "cell_type": "markdown",
   "id": "b54c2b22",
   "metadata": {},
   "source": [
    "# Drug Classification"
   ]
  },
  {
   "cell_type": "code",
   "execution_count": 1,
   "id": "e108ddd6",
   "metadata": {},
   "outputs": [],
   "source": [
    "#EDA Packages\n",
    "import pandas as pd\n",
    "import numpy as np"
   ]
  },
  {
   "cell_type": "code",
   "execution_count": 2,
   "id": "11ddff5d",
   "metadata": {},
   "outputs": [],
   "source": [
    "# Plotting Packages\n",
    "import matplotlib.pyplot as plt\n",
    "import seaborn as sns"
   ]
  },
  {
   "cell_type": "code",
   "execution_count": 3,
   "id": "4f5b437c",
   "metadata": {},
   "outputs": [],
   "source": [
    "#load the dataset\n",
    "dataset=pd.read_csv(r\"C:\\Users\\yedhu\\OneDrive\\Desktop\\TCS Internship Files\\DRUGS  SIDE EFFECTS DATASET.csv\")"
   ]
  },
  {
   "cell_type": "code",
   "execution_count": 4,
   "id": "6397f6d1",
   "metadata": {},
   "outputs": [
    {
     "data": {
      "text/html": [
       "<div>\n",
       "<style scoped>\n",
       "    .dataframe tbody tr th:only-of-type {\n",
       "        vertical-align: middle;\n",
       "    }\n",
       "\n",
       "    .dataframe tbody tr th {\n",
       "        vertical-align: top;\n",
       "    }\n",
       "\n",
       "    .dataframe thead th {\n",
       "        text-align: right;\n",
       "    }\n",
       "</style>\n",
       "<table border=\"1\" class=\"dataframe\">\n",
       "  <thead>\n",
       "    <tr style=\"text-align: right;\">\n",
       "      <th></th>\n",
       "      <th>NAME</th>\n",
       "      <th>GENDER</th>\n",
       "      <th>DRUG NAME</th>\n",
       "      <th>AGE</th>\n",
       "      <th>RACE</th>\n",
       "      <th>SIDE EFFECTS</th>\n",
       "    </tr>\n",
       "  </thead>\n",
       "  <tbody>\n",
       "    <tr>\n",
       "      <th>0</th>\n",
       "      <td>Aaban</td>\n",
       "      <td>M</td>\n",
       "      <td>topamax</td>\n",
       "      <td>41.0</td>\n",
       "      <td>White</td>\n",
       "      <td>Mild Side Effects</td>\n",
       "    </tr>\n",
       "    <tr>\n",
       "      <th>1</th>\n",
       "      <td>Aaban</td>\n",
       "      <td>M</td>\n",
       "      <td>zocor</td>\n",
       "      <td>53.0</td>\n",
       "      <td>Hispanic, White</td>\n",
       "      <td>Extremely Severe Side Effects</td>\n",
       "    </tr>\n",
       "    <tr>\n",
       "      <th>2</th>\n",
       "      <td>Aabha</td>\n",
       "      <td>F</td>\n",
       "      <td>tazorac</td>\n",
       "      <td>31.0</td>\n",
       "      <td>White</td>\n",
       "      <td>Mild Side Effects</td>\n",
       "    </tr>\n",
       "    <tr>\n",
       "      <th>3</th>\n",
       "      <td>Aabha</td>\n",
       "      <td>F</td>\n",
       "      <td>voltaren</td>\n",
       "      <td>44.0</td>\n",
       "      <td>White</td>\n",
       "      <td>Severe Side Effects</td>\n",
       "    </tr>\n",
       "    <tr>\n",
       "      <th>4</th>\n",
       "      <td>Aabid</td>\n",
       "      <td>M</td>\n",
       "      <td>tramadol</td>\n",
       "      <td>24.0</td>\n",
       "      <td>White</td>\n",
       "      <td>No Side Effects</td>\n",
       "    </tr>\n",
       "    <tr>\n",
       "      <th>5</th>\n",
       "      <td>Aabida</td>\n",
       "      <td>F</td>\n",
       "      <td>valtrex</td>\n",
       "      <td>55.0</td>\n",
       "      <td>Hispanic, White</td>\n",
       "      <td>No Side Effects</td>\n",
       "    </tr>\n",
       "    <tr>\n",
       "      <th>6</th>\n",
       "      <td>Aabidah</td>\n",
       "      <td>F</td>\n",
       "      <td>levoxyl</td>\n",
       "      <td>34.0</td>\n",
       "      <td>White</td>\n",
       "      <td>No Side Effects</td>\n",
       "    </tr>\n",
       "    <tr>\n",
       "      <th>7</th>\n",
       "      <td>Aabigail</td>\n",
       "      <td>F</td>\n",
       "      <td>imitrex</td>\n",
       "      <td>28.0</td>\n",
       "      <td>White</td>\n",
       "      <td>Moderate Side Effects</td>\n",
       "    </tr>\n",
       "    <tr>\n",
       "      <th>8</th>\n",
       "      <td>Aabir</td>\n",
       "      <td>M</td>\n",
       "      <td>seroquel</td>\n",
       "      <td>38.0</td>\n",
       "      <td>White</td>\n",
       "      <td>Mild Side Effects</td>\n",
       "    </tr>\n",
       "    <tr>\n",
       "      <th>9</th>\n",
       "      <td>Aabir</td>\n",
       "      <td>M</td>\n",
       "      <td>minocycline</td>\n",
       "      <td>56.0</td>\n",
       "      <td>White</td>\n",
       "      <td>No Side Effects</td>\n",
       "    </tr>\n",
       "  </tbody>\n",
       "</table>\n",
       "</div>"
      ],
      "text/plain": [
       "       NAME GENDER    DRUG NAME   AGE             RACE  \\\n",
       "0     Aaban      M      topamax  41.0            White   \n",
       "1     Aaban      M        zocor  53.0  Hispanic, White   \n",
       "2     Aabha      F      tazorac  31.0            White   \n",
       "3     Aabha      F     voltaren  44.0            White   \n",
       "4     Aabid      M     tramadol  24.0            White   \n",
       "5    Aabida      F      valtrex  55.0  Hispanic, White   \n",
       "6   Aabidah      F      levoxyl  34.0            White   \n",
       "7  Aabigail      F      imitrex  28.0            White   \n",
       "8     Aabir      M     seroquel  38.0            White   \n",
       "9     Aabir      M  minocycline  56.0            White   \n",
       "\n",
       "                    SIDE EFFECTS  \n",
       "0              Mild Side Effects  \n",
       "1  Extremely Severe Side Effects  \n",
       "2              Mild Side Effects  \n",
       "3            Severe Side Effects  \n",
       "4                No Side Effects  \n",
       "5                No Side Effects  \n",
       "6                No Side Effects  \n",
       "7          Moderate Side Effects  \n",
       "8              Mild Side Effects  \n",
       "9                No Side Effects  "
      ]
     },
     "execution_count": 4,
     "metadata": {},
     "output_type": "execute_result"
    }
   ],
   "source": [
    "dataset.head(10)"
   ]
  },
  {
   "cell_type": "code",
   "execution_count": 5,
   "id": "c28984b0",
   "metadata": {},
   "outputs": [
    {
     "name": "stdout",
     "output_type": "stream",
     "text": [
      "Shape of the given dataset is (400000, 6).Contains 400000 rows and 6 columns \n"
     ]
    }
   ],
   "source": [
    "print ('Shape of the given dataset is {}.Contains {} rows and {} columns '.format(dataset.shape,dataset.shape[0],dataset.shape[1]))"
   ]
  },
  {
   "cell_type": "code",
   "execution_count": 6,
   "id": "4851ab52",
   "metadata": {},
   "outputs": [
    {
     "name": "stdout",
     "output_type": "stream",
     "text": [
      "<class 'pandas.core.frame.DataFrame'>\n",
      "RangeIndex: 400000 entries, 0 to 399999\n",
      "Data columns (total 6 columns):\n",
      " #   Column        Non-Null Count   Dtype  \n",
      "---  ------        --------------   -----  \n",
      " 0   NAME          400000 non-null  object \n",
      " 1   GENDER        400000 non-null  object \n",
      " 2   DRUG NAME     400000 non-null  object \n",
      " 3   AGE           399980 non-null  float64\n",
      " 4   RACE          400000 non-null  object \n",
      " 5   SIDE EFFECTS  400000 non-null  object \n",
      "dtypes: float64(1), object(5)\n",
      "memory usage: 18.3+ MB\n"
     ]
    }
   ],
   "source": [
    "#Feature Names and its Datatypes\n",
    "dataset.info()"
   ]
  },
  {
   "cell_type": "code",
   "execution_count": 7,
   "id": "882a6274",
   "metadata": {},
   "outputs": [
    {
     "data": {
      "text/html": [
       "<div>\n",
       "<style scoped>\n",
       "    .dataframe tbody tr th:only-of-type {\n",
       "        vertical-align: middle;\n",
       "    }\n",
       "\n",
       "    .dataframe tbody tr th {\n",
       "        vertical-align: top;\n",
       "    }\n",
       "\n",
       "    .dataframe thead th {\n",
       "        text-align: right;\n",
       "    }\n",
       "</style>\n",
       "<table border=\"1\" class=\"dataframe\">\n",
       "  <thead>\n",
       "    <tr style=\"text-align: right;\">\n",
       "      <th></th>\n",
       "      <th>NAME</th>\n",
       "      <th>GENDER</th>\n",
       "      <th>DRUG NAME</th>\n",
       "      <th>RACE</th>\n",
       "      <th>SIDE EFFECTS</th>\n",
       "    </tr>\n",
       "  </thead>\n",
       "  <tbody>\n",
       "    <tr>\n",
       "      <th>count</th>\n",
       "      <td>400000</td>\n",
       "      <td>400000</td>\n",
       "      <td>400000</td>\n",
       "      <td>400000</td>\n",
       "      <td>400000</td>\n",
       "    </tr>\n",
       "    <tr>\n",
       "      <th>unique</th>\n",
       "      <td>133911</td>\n",
       "      <td>2</td>\n",
       "      <td>502</td>\n",
       "      <td>9</td>\n",
       "      <td>5</td>\n",
       "    </tr>\n",
       "    <tr>\n",
       "      <th>top</th>\n",
       "      <td>William</td>\n",
       "      <td>F</td>\n",
       "      <td>paxil</td>\n",
       "      <td>White</td>\n",
       "      <td>Mild Side Effects</td>\n",
       "    </tr>\n",
       "    <tr>\n",
       "      <th>freq</th>\n",
       "      <td>42</td>\n",
       "      <td>237751</td>\n",
       "      <td>6269</td>\n",
       "      <td>314074</td>\n",
       "      <td>133236</td>\n",
       "    </tr>\n",
       "  </tbody>\n",
       "</table>\n",
       "</div>"
      ],
      "text/plain": [
       "           NAME  GENDER DRUG NAME    RACE       SIDE EFFECTS\n",
       "count    400000  400000    400000  400000             400000\n",
       "unique   133911       2       502       9                  5\n",
       "top     William       F     paxil   White  Mild Side Effects\n",
       "freq         42  237751      6269  314074             133236"
      ]
     },
     "execution_count": 7,
     "metadata": {},
     "output_type": "execute_result"
    }
   ],
   "source": [
    "dataset.describe(include='object')"
   ]
  },
  {
   "cell_type": "code",
   "execution_count": 8,
   "id": "1013f8fc",
   "metadata": {},
   "outputs": [],
   "source": [
    "# Summary statistics for numerical columns\n",
    "numerical_summary = dataset.describe()"
   ]
  },
  {
   "cell_type": "code",
   "execution_count": 9,
   "id": "38860cd3",
   "metadata": {},
   "outputs": [
    {
     "data": {
      "text/html": [
       "<div>\n",
       "<style scoped>\n",
       "    .dataframe tbody tr th:only-of-type {\n",
       "        vertical-align: middle;\n",
       "    }\n",
       "\n",
       "    .dataframe tbody tr th {\n",
       "        vertical-align: top;\n",
       "    }\n",
       "\n",
       "    .dataframe thead th {\n",
       "        text-align: right;\n",
       "    }\n",
       "</style>\n",
       "<table border=\"1\" class=\"dataframe\">\n",
       "  <thead>\n",
       "    <tr style=\"text-align: right;\">\n",
       "      <th></th>\n",
       "      <th>AGE</th>\n",
       "    </tr>\n",
       "  </thead>\n",
       "  <tbody>\n",
       "    <tr>\n",
       "      <th>count</th>\n",
       "      <td>399980.000000</td>\n",
       "    </tr>\n",
       "    <tr>\n",
       "      <th>mean</th>\n",
       "      <td>41.466513</td>\n",
       "    </tr>\n",
       "    <tr>\n",
       "      <th>std</th>\n",
       "      <td>12.550773</td>\n",
       "    </tr>\n",
       "    <tr>\n",
       "      <th>min</th>\n",
       "      <td>14.000000</td>\n",
       "    </tr>\n",
       "    <tr>\n",
       "      <th>25%</th>\n",
       "      <td>31.000000</td>\n",
       "    </tr>\n",
       "    <tr>\n",
       "      <th>50%</th>\n",
       "      <td>41.000000</td>\n",
       "    </tr>\n",
       "    <tr>\n",
       "      <th>75%</th>\n",
       "      <td>51.000000</td>\n",
       "    </tr>\n",
       "    <tr>\n",
       "      <th>max</th>\n",
       "      <td>600.000000</td>\n",
       "    </tr>\n",
       "  </tbody>\n",
       "</table>\n",
       "</div>"
      ],
      "text/plain": [
       "                 AGE\n",
       "count  399980.000000\n",
       "mean       41.466513\n",
       "std        12.550773\n",
       "min        14.000000\n",
       "25%        31.000000\n",
       "50%        41.000000\n",
       "75%        51.000000\n",
       "max       600.000000"
      ]
     },
     "execution_count": 9,
     "metadata": {},
     "output_type": "execute_result"
    }
   ],
   "source": [
    "numerical_summary"
   ]
  },
  {
   "cell_type": "code",
   "execution_count": 10,
   "id": "32709080",
   "metadata": {},
   "outputs": [],
   "source": [
    "# Count unique values in categorical columns\n",
    "categorical_counts = dataset[['GENDER', 'RACE', 'SIDE EFFECTS']].nunique()"
   ]
  },
  {
   "cell_type": "code",
   "execution_count": 11,
   "id": "a58f3845",
   "metadata": {},
   "outputs": [
    {
     "data": {
      "text/plain": [
       "GENDER          2\n",
       "RACE            9\n",
       "SIDE EFFECTS    5\n",
       "dtype: int64"
      ]
     },
     "execution_count": 11,
     "metadata": {},
     "output_type": "execute_result"
    }
   ],
   "source": [
    "categorical_counts"
   ]
  },
  {
   "cell_type": "code",
   "execution_count": 12,
   "id": "a32aabae",
   "metadata": {},
   "outputs": [
    {
     "data": {
      "image/png": "[encoded data removed]",
      "text/plain": [
       "<Figure size 864x432 with 1 Axes>"
      ]
     },
     "metadata": {
      "needs_background": "light"
     },
     "output_type": "display_data"
    }
   ],
   "source": [
    "# Distribution of Age\n",
    "plt.figure(figsize=(12, 6))\n",
    "sns.histplot(data=dataset, x='AGE', bins=20, kde=True)\n",
    "plt.title('Distribution of Age')\n",
    "plt.xlabel('Age')\n",
    "plt.ylabel('Count')\n",
    "plt.show()"
   ]
  },
  {
   "cell_type": "code",
   "execution_count": 13,
   "id": "a53d97cd",
   "metadata": {},
   "outputs": [
    {
     "data": {
      "image/png": "[encoded data removed]",
      "text/plain": [
       "<Figure size 864x432 with 1 Axes>"
      ]
     },
     "metadata": {
      "needs_background": "light"
     },
     "output_type": "display_data"
    }
   ],
   "source": [
    "# Distribution of gender wise distribution of data\n",
    "plt.figure(figsize=(12, 6))\n",
    "sns.countplot(data=dataset, x='GENDER')\n",
    "plt.title('Distribution of Gender')\n",
    "plt.xlabel('Gender')\n",
    "plt.ylabel('Count')\n",
    "plt.show()"
   ]
  },
  {
   "cell_type": "code",
   "execution_count": 14,
   "id": "2d9cbc87",
   "metadata": {},
   "outputs": [
    {
     "data": {
      "text/plain": [
       "F    237751\n",
       "M    162249\n",
       "Name: GENDER, dtype: int64"
      ]
     },
     "execution_count": 14,
     "metadata": {},
     "output_type": "execute_result"
    }
   ],
   "source": [
    "dataset['GENDER'].value_counts()"
   ]
  },
  {
   "cell_type": "code",
   "execution_count": 15,
   "id": "8aefed8f",
   "metadata": {},
   "outputs": [
    {
     "data": {
      "image/png": "[encoded data removed]",
      "text/plain": [
       "<Figure size 864x432 with 1 Axes>"
      ]
     },
     "metadata": {
      "needs_background": "light"
     },
     "output_type": "display_data"
    }
   ],
   "source": [
    "# Side effects distribution\n",
    "plt.figure(figsize=(12, 6))\n",
    "sns.countplot(data=dataset, y='SIDE EFFECTS', order=dataset['SIDE EFFECTS'].value_counts().index)\n",
    "plt.title('Distribution of Side Effects')\n",
    "plt.xlabel('Count')\n",
    "plt.ylabel('Side Effects')\n",
    "plt.show()"
   ]
  },
  {
   "cell_type": "code",
   "execution_count": 16,
   "id": "5847f619",
   "metadata": {},
   "outputs": [
    {
     "data": {
      "text/plain": [
       "<Figure size 720x432 with 0 Axes>"
      ]
     },
     "metadata": {},
     "output_type": "display_data"
    },
    {
     "data": {
      "image/png": "[encoded data removed]",
      "text/plain": [
       "<Figure size 432x288 with 1 Axes>"
      ]
     },
     "metadata": {
      "needs_background": "light"
     },
     "output_type": "display_data"
    }
   ],
   "source": [
    "#side effects exhibited by different genders\n",
    "# Create a grouped bar chart\n",
    "plt.figure(figsize=(10, 6))\n",
    "grouped = dataset.groupby(['GENDER', 'SIDE EFFECTS']).size().unstack()\n",
    "grouped.plot(kind='bar')\n",
    "plt.title('Side Effects Exhibited by Different Genders')\n",
    "plt.xlabel('Gender')\n",
    "plt.ylabel('Count')\n",
    "plt.tight_layout()\n",
    "plt.legend(title='Side Effects', bbox_to_anchor=(1.05, 1), loc='upper left')\n",
    "# Adjust the layout to accommodate the legend outside\n",
    "plt.subplots_adjust(right=0.75)\n",
    "plt.show()\n"
   ]
  },
  {
   "cell_type": "code",
   "execution_count": null,
   "id": "8bc8ce72",
   "metadata": {},
   "outputs": [],
   "source": []
  },
  {
   "cell_type": "code",
   "execution_count": 17,
   "id": "9c61154a",
   "metadata": {},
   "outputs": [
    {
     "data": {
      "image/png": "[encoded data removed]",
      "text/plain": [
       "<Figure size 864x432 with 1 Axes>"
      ]
     },
     "metadata": {
      "needs_background": "light"
     },
     "output_type": "display_data"
    }
   ],
   "source": [
    "# Box plot to visualize age distribution for each side effect\n",
    "plt.figure(figsize=(12, 6))\n",
    "sns.boxplot(data=dataset, x='SIDE EFFECTS', y='AGE')\n",
    "plt.title('Age Distribution by Side Effects')\n",
    "plt.xticks(rotation=90)\n",
    "plt.xlabel('Side Effects')\n",
    "plt.ylabel('Age')\n",
    "plt.show()"
   ]
  },
  {
   "cell_type": "code",
   "execution_count": 18,
   "id": "b8a78f4f",
   "metadata": {},
   "outputs": [],
   "source": [
    "# Calculate the top 10 drugs by frequency\n",
    "top_10_drugs = dataset['DRUG NAME'].value_counts().head(10)"
   ]
  },
  {
   "cell_type": "code",
   "execution_count": 19,
   "id": "e0e3cd2a",
   "metadata": {},
   "outputs": [
    {
     "data": {
      "image/png": "[encoded data removed]",
      "text/plain": [
       "<Figure size 720x432 with 1 Axes>"
      ]
     },
     "metadata": {
      "needs_background": "light"
     },
     "output_type": "display_data"
    }
   ],
   "source": [
    "# Create a bar chart for the top 10 drugs\n",
    "plt.figure(figsize=(10, 6))\n",
    "top_10_drugs.plot(kind='bar')\n",
    "plt.title('Top 10 Drugs by Frequency')\n",
    "plt.xlabel('Drug Name')\n",
    "plt.ylabel('Frequency')\n",
    "plt.xticks(rotation=45)  \n",
    "plt.tight_layout()"
   ]
  },
  {
   "cell_type": "code",
   "execution_count": 20,
   "id": "be919ab4",
   "metadata": {},
   "outputs": [],
   "source": [
    "# Calculate the counts of each side effect category\n",
    "side_effects_counts = dataset['SIDE EFFECTS'].value_counts()"
   ]
  },
  {
   "cell_type": "code",
   "execution_count": 21,
   "id": "f308f66f",
   "metadata": {},
   "outputs": [
    {
     "data": {
      "image/png": "[encoded data removed]",
      "text/plain": [
       "<Figure size 720x576 with 1 Axes>"
      ]
     },
     "metadata": {},
     "output_type": "display_data"
    }
   ],
   "source": [
    "# Create a pie chart\n",
    "plt.figure(figsize=(10,8))\n",
    "plt.pie(side_effects_counts, labels=side_effects_counts.index, autopct='%1.1f%%', startangle=140)\n",
    "plt.title('Percentage Distribution of Side Effects Due to Drugs')\n",
    "plt.axis('equal')\n",
    "plt.show()"
   ]
  },
  {
   "cell_type": "markdown",
   "id": "5113a0f6",
   "metadata": {},
   "source": [
    "# Data Preprocessing"
   ]
  },
  {
   "cell_type": "markdown",
   "id": "e89234e4",
   "metadata": {},
   "source": [
    "# Handling Missing Values"
   ]
  },
  {
   "cell_type": "code",
   "execution_count": 22,
   "id": "84df2240",
   "metadata": {},
   "outputs": [
    {
     "data": {
      "text/plain": [
       "NAME             0\n",
       "GENDER           0\n",
       "DRUG NAME        0\n",
       "AGE             20\n",
       "RACE             0\n",
       "SIDE EFFECTS     0\n",
       "dtype: int64"
      ]
     },
     "execution_count": 22,
     "metadata": {},
     "output_type": "execute_result"
    }
   ],
   "source": [
    "#Checking for missing values\n",
    "dataset.isnull().sum()"
   ]
  },
  {
   "cell_type": "code",
   "execution_count": 23,
   "id": "ff0bd5e7",
   "metadata": {},
   "outputs": [],
   "source": [
    "#Imputation with Mean"
   ]
  },
  {
   "cell_type": "code",
   "execution_count": 24,
   "id": "b3254b92",
   "metadata": {},
   "outputs": [],
   "source": [
    "# Calculate the mean age\n",
    "mean_age = dataset['AGE'].mean()"
   ]
  },
  {
   "cell_type": "code",
   "execution_count": 25,
   "id": "f2eb606e",
   "metadata": {},
   "outputs": [
    {
     "data": {
      "text/plain": [
       "41.466513325666284"
      ]
     },
     "execution_count": 25,
     "metadata": {},
     "output_type": "execute_result"
    }
   ],
   "source": [
    "mean_age"
   ]
  },
  {
   "cell_type": "code",
   "execution_count": 26,
   "id": "e4a1f122",
   "metadata": {},
   "outputs": [],
   "source": [
    "# Impute missing \"AGE\" values with the mean age\n",
    "dataset['AGE'].fillna(mean_age, inplace=True)"
   ]
  },
  {
   "cell_type": "code",
   "execution_count": 27,
   "id": "eab7089a",
   "metadata": {},
   "outputs": [
    {
     "name": "stdout",
     "output_type": "stream",
     "text": [
      "Number of missing values in 'AGE' column after imputation: 0\n"
     ]
    }
   ],
   "source": [
    "# Verify that there are no more missing values in the \"AGE\" column\n",
    "missing_values = dataset['AGE'].isnull().sum()\n",
    "print(f\"Number of missing values in 'AGE' column after imputation: {missing_values}\")"
   ]
  },
  {
   "cell_type": "markdown",
   "id": "1c527159",
   "metadata": {},
   "source": [
    "# Outlier Detection"
   ]
  },
  {
   "cell_type": "markdown",
   "id": "2124585d",
   "metadata": {},
   "source": [
    "# Z - Score Method"
   ]
  },
  {
   "cell_type": "code",
   "execution_count": 28,
   "id": "8c06b373",
   "metadata": {},
   "outputs": [],
   "source": [
    "# Define a function to detect outliers using Z-score\n",
    "def find_outliers_zscore(dataset, threshold=3):\n",
    "    z_scores = np.abs((dataset - dataset.mean()) / dataset.std())\n",
    "    return z_scores > threshold"
   ]
  },
  {
   "cell_type": "code",
   "execution_count": 29,
   "id": "dfed5784",
   "metadata": {},
   "outputs": [
    {
     "data": {
      "text/plain": [
       "Index(['NAME', 'GENDER', 'DRUG NAME', 'AGE', 'RACE', 'SIDE EFFECTS'], dtype='object')"
      ]
     },
     "execution_count": 29,
     "metadata": {},
     "output_type": "execute_result"
    }
   ],
   "source": [
    "dataset.columns"
   ]
  },
  {
   "cell_type": "code",
   "execution_count": 30,
   "id": "0cbd46f1",
   "metadata": {},
   "outputs": [],
   "source": [
    "# Find outliers in all columns (except the 'activityID' and 'PeopleId' columns if they exist)\n",
    "outliers_all_columns = dataset.drop(columns=['NAME', 'GENDER', 'DRUG NAME','RACE', 'SIDE EFFECTS']).apply(find_outliers_zscore)"
   ]
  },
  {
   "cell_type": "code",
   "execution_count": 31,
   "id": "ed508bae",
   "metadata": {},
   "outputs": [],
   "source": [
    "# Show the rows where any column has an outlier\n",
    "outliers_rows = outliers_all_columns.any(axis=1)\n",
    "outliers_detected = dataset[outliers_rows]"
   ]
  },
  {
   "cell_type": "code",
   "execution_count": 32,
   "id": "32809c45",
   "metadata": {},
   "outputs": [],
   "source": [
    "# Get the index of potential outliers\n",
    "potential_outliers_index = outliers_detected.index"
   ]
  },
  {
   "cell_type": "code",
   "execution_count": 33,
   "id": "9ff0d9cd",
   "metadata": {},
   "outputs": [
    {
     "data": {
      "text/plain": [
       "Int64Index([  3008,  41048,  43016,  52650,  60136,  61606,  66169,  85047,\n",
       "             93226, 111850, 119574, 127240, 145846, 168426, 171643, 174039,\n",
       "            174487, 186893, 209780, 218988, 224733, 232518, 242302, 245321,\n",
       "            259034, 264849, 266215, 275520, 290165, 295943, 300452, 315506,\n",
       "            325628, 325631, 333669, 337790, 363934, 384352, 393820],\n",
       "           dtype='int64')"
      ]
     },
     "execution_count": 33,
     "metadata": {},
     "output_type": "execute_result"
    }
   ],
   "source": [
    "potential_outliers_index"
   ]
  },
  {
   "cell_type": "code",
   "execution_count": 34,
   "id": "0b4f994e",
   "metadata": {},
   "outputs": [],
   "source": [
    "# Remove the potential outliers from the original DataFrame\n",
    "df_cleaned = dataset.drop(index=potential_outliers_index)"
   ]
  },
  {
   "cell_type": "code",
   "execution_count": 35,
   "id": "f471f683",
   "metadata": {},
   "outputs": [
    {
     "data": {
      "text/html": [
       "<div>\n",
       "<style scoped>\n",
       "    .dataframe tbody tr th:only-of-type {\n",
       "        vertical-align: middle;\n",
       "    }\n",
       "\n",
       "    .dataframe tbody tr th {\n",
       "        vertical-align: top;\n",
       "    }\n",
       "\n",
       "    .dataframe thead th {\n",
       "        text-align: right;\n",
       "    }\n",
       "</style>\n",
       "<table border=\"1\" class=\"dataframe\">\n",
       "  <thead>\n",
       "    <tr style=\"text-align: right;\">\n",
       "      <th></th>\n",
       "      <th>NAME</th>\n",
       "      <th>GENDER</th>\n",
       "      <th>DRUG NAME</th>\n",
       "      <th>AGE</th>\n",
       "      <th>RACE</th>\n",
       "      <th>SIDE EFFECTS</th>\n",
       "    </tr>\n",
       "  </thead>\n",
       "  <tbody>\n",
       "    <tr>\n",
       "      <th>0</th>\n",
       "      <td>Aaban</td>\n",
       "      <td>M</td>\n",
       "      <td>topamax</td>\n",
       "      <td>41.0</td>\n",
       "      <td>White</td>\n",
       "      <td>Mild Side Effects</td>\n",
       "    </tr>\n",
       "    <tr>\n",
       "      <th>1</th>\n",
       "      <td>Aaban</td>\n",
       "      <td>M</td>\n",
       "      <td>zocor</td>\n",
       "      <td>53.0</td>\n",
       "      <td>Hispanic, White</td>\n",
       "      <td>Extremely Severe Side Effects</td>\n",
       "    </tr>\n",
       "    <tr>\n",
       "      <th>2</th>\n",
       "      <td>Aabha</td>\n",
       "      <td>F</td>\n",
       "      <td>tazorac</td>\n",
       "      <td>31.0</td>\n",
       "      <td>White</td>\n",
       "      <td>Mild Side Effects</td>\n",
       "    </tr>\n",
       "    <tr>\n",
       "      <th>3</th>\n",
       "      <td>Aabha</td>\n",
       "      <td>F</td>\n",
       "      <td>voltaren</td>\n",
       "      <td>44.0</td>\n",
       "      <td>White</td>\n",
       "      <td>Severe Side Effects</td>\n",
       "    </tr>\n",
       "    <tr>\n",
       "      <th>4</th>\n",
       "      <td>Aabid</td>\n",
       "      <td>M</td>\n",
       "      <td>tramadol</td>\n",
       "      <td>24.0</td>\n",
       "      <td>White</td>\n",
       "      <td>No Side Effects</td>\n",
       "    </tr>\n",
       "    <tr>\n",
       "      <th>...</th>\n",
       "      <td>...</td>\n",
       "      <td>...</td>\n",
       "      <td>...</td>\n",
       "      <td>...</td>\n",
       "      <td>...</td>\n",
       "      <td>...</td>\n",
       "    </tr>\n",
       "    <tr>\n",
       "      <th>399995</th>\n",
       "      <td>TRUE</td>\n",
       "      <td>M</td>\n",
       "      <td>lamisil</td>\n",
       "      <td>50.0</td>\n",
       "      <td>White</td>\n",
       "      <td>Severe Side Effects</td>\n",
       "    </tr>\n",
       "    <tr>\n",
       "      <th>399996</th>\n",
       "      <td>TRUE</td>\n",
       "      <td>M</td>\n",
       "      <td>klaron</td>\n",
       "      <td>55.0</td>\n",
       "      <td>Hispanic, White</td>\n",
       "      <td>No Side Effects</td>\n",
       "    </tr>\n",
       "    <tr>\n",
       "      <th>399997</th>\n",
       "      <td>TRUE</td>\n",
       "      <td>M</td>\n",
       "      <td>celexa</td>\n",
       "      <td>57.0</td>\n",
       "      <td>Other</td>\n",
       "      <td>Severe Side Effects</td>\n",
       "    </tr>\n",
       "    <tr>\n",
       "      <th>399998</th>\n",
       "      <td>TRUE</td>\n",
       "      <td>F</td>\n",
       "      <td>zoloft</td>\n",
       "      <td>59.0</td>\n",
       "      <td>White</td>\n",
       "      <td>No Side Effects</td>\n",
       "    </tr>\n",
       "    <tr>\n",
       "      <th>399999</th>\n",
       "      <td>TRUE</td>\n",
       "      <td>M</td>\n",
       "      <td>prilosec</td>\n",
       "      <td>65.0</td>\n",
       "      <td>White</td>\n",
       "      <td>Mild Side Effects</td>\n",
       "    </tr>\n",
       "  </tbody>\n",
       "</table>\n",
       "<p>399961 rows × 6 columns</p>\n",
       "</div>"
      ],
      "text/plain": [
       "         NAME GENDER DRUG NAME   AGE             RACE  \\\n",
       "0       Aaban      M   topamax  41.0            White   \n",
       "1       Aaban      M     zocor  53.0  Hispanic, White   \n",
       "2       Aabha      F   tazorac  31.0            White   \n",
       "3       Aabha      F  voltaren  44.0            White   \n",
       "4       Aabid      M  tramadol  24.0            White   \n",
       "...       ...    ...       ...   ...              ...   \n",
       "399995   TRUE      M   lamisil  50.0            White   \n",
       "399996   TRUE      M    klaron  55.0  Hispanic, White   \n",
       "399997   TRUE      M    celexa  57.0            Other   \n",
       "399998   TRUE      F    zoloft  59.0            White   \n",
       "399999   TRUE      M  prilosec  65.0            White   \n",
       "\n",
       "                         SIDE EFFECTS  \n",
       "0                   Mild Side Effects  \n",
       "1       Extremely Severe Side Effects  \n",
       "2                   Mild Side Effects  \n",
       "3                 Severe Side Effects  \n",
       "4                     No Side Effects  \n",
       "...                               ...  \n",
       "399995            Severe Side Effects  \n",
       "399996                No Side Effects  \n",
       "399997            Severe Side Effects  \n",
       "399998                No Side Effects  \n",
       "399999              Mild Side Effects  \n",
       "\n",
       "[399961 rows x 6 columns]"
      ]
     },
     "execution_count": 35,
     "metadata": {},
     "output_type": "execute_result"
    }
   ],
   "source": [
    "df_cleaned"
   ]
  },
  {
   "cell_type": "code",
   "execution_count": 36,
   "id": "3c86546f",
   "metadata": {},
   "outputs": [],
   "source": [
    "# After removing outliers and storing the cleaned DataFrame in 'df_cleaned'\n",
    "# Reset the index of the DataFrame\n",
    "df_cleaned.reset_index(drop=True, inplace=True)"
   ]
  },
  {
   "cell_type": "code",
   "execution_count": 37,
   "id": "33e21063",
   "metadata": {},
   "outputs": [
    {
     "data": {
      "text/html": [
       "<div>\n",
       "<style scoped>\n",
       "    .dataframe tbody tr th:only-of-type {\n",
       "        vertical-align: middle;\n",
       "    }\n",
       "\n",
       "    .dataframe tbody tr th {\n",
       "        vertical-align: top;\n",
       "    }\n",
       "\n",
       "    .dataframe thead th {\n",
       "        text-align: right;\n",
       "    }\n",
       "</style>\n",
       "<table border=\"1\" class=\"dataframe\">\n",
       "  <thead>\n",
       "    <tr style=\"text-align: right;\">\n",
       "      <th></th>\n",
       "      <th>NAME</th>\n",
       "      <th>GENDER</th>\n",
       "      <th>DRUG NAME</th>\n",
       "      <th>AGE</th>\n",
       "      <th>RACE</th>\n",
       "      <th>SIDE EFFECTS</th>\n",
       "    </tr>\n",
       "  </thead>\n",
       "  <tbody>\n",
       "    <tr>\n",
       "      <th>0</th>\n",
       "      <td>Aaban</td>\n",
       "      <td>M</td>\n",
       "      <td>topamax</td>\n",
       "      <td>41.0</td>\n",
       "      <td>White</td>\n",
       "      <td>Mild Side Effects</td>\n",
       "    </tr>\n",
       "    <tr>\n",
       "      <th>1</th>\n",
       "      <td>Aaban</td>\n",
       "      <td>M</td>\n",
       "      <td>zocor</td>\n",
       "      <td>53.0</td>\n",
       "      <td>Hispanic, White</td>\n",
       "      <td>Extremely Severe Side Effects</td>\n",
       "    </tr>\n",
       "    <tr>\n",
       "      <th>2</th>\n",
       "      <td>Aabha</td>\n",
       "      <td>F</td>\n",
       "      <td>tazorac</td>\n",
       "      <td>31.0</td>\n",
       "      <td>White</td>\n",
       "      <td>Mild Side Effects</td>\n",
       "    </tr>\n",
       "    <tr>\n",
       "      <th>3</th>\n",
       "      <td>Aabha</td>\n",
       "      <td>F</td>\n",
       "      <td>voltaren</td>\n",
       "      <td>44.0</td>\n",
       "      <td>White</td>\n",
       "      <td>Severe Side Effects</td>\n",
       "    </tr>\n",
       "    <tr>\n",
       "      <th>4</th>\n",
       "      <td>Aabid</td>\n",
       "      <td>M</td>\n",
       "      <td>tramadol</td>\n",
       "      <td>24.0</td>\n",
       "      <td>White</td>\n",
       "      <td>No Side Effects</td>\n",
       "    </tr>\n",
       "    <tr>\n",
       "      <th>...</th>\n",
       "      <td>...</td>\n",
       "      <td>...</td>\n",
       "      <td>...</td>\n",
       "      <td>...</td>\n",
       "      <td>...</td>\n",
       "      <td>...</td>\n",
       "    </tr>\n",
       "    <tr>\n",
       "      <th>399956</th>\n",
       "      <td>TRUE</td>\n",
       "      <td>M</td>\n",
       "      <td>lamisil</td>\n",
       "      <td>50.0</td>\n",
       "      <td>White</td>\n",
       "      <td>Severe Side Effects</td>\n",
       "    </tr>\n",
       "    <tr>\n",
       "      <th>399957</th>\n",
       "      <td>TRUE</td>\n",
       "      <td>M</td>\n",
       "      <td>klaron</td>\n",
       "      <td>55.0</td>\n",
       "      <td>Hispanic, White</td>\n",
       "      <td>No Side Effects</td>\n",
       "    </tr>\n",
       "    <tr>\n",
       "      <th>399958</th>\n",
       "      <td>TRUE</td>\n",
       "      <td>M</td>\n",
       "      <td>celexa</td>\n",
       "      <td>57.0</td>\n",
       "      <td>Other</td>\n",
       "      <td>Severe Side Effects</td>\n",
       "    </tr>\n",
       "    <tr>\n",
       "      <th>399959</th>\n",
       "      <td>TRUE</td>\n",
       "      <td>F</td>\n",
       "      <td>zoloft</td>\n",
       "      <td>59.0</td>\n",
       "      <td>White</td>\n",
       "      <td>No Side Effects</td>\n",
       "    </tr>\n",
       "    <tr>\n",
       "      <th>399960</th>\n",
       "      <td>TRUE</td>\n",
       "      <td>M</td>\n",
       "      <td>prilosec</td>\n",
       "      <td>65.0</td>\n",
       "      <td>White</td>\n",
       "      <td>Mild Side Effects</td>\n",
       "    </tr>\n",
       "  </tbody>\n",
       "</table>\n",
       "<p>399961 rows × 6 columns</p>\n",
       "</div>"
      ],
      "text/plain": [
       "         NAME GENDER DRUG NAME   AGE             RACE  \\\n",
       "0       Aaban      M   topamax  41.0            White   \n",
       "1       Aaban      M     zocor  53.0  Hispanic, White   \n",
       "2       Aabha      F   tazorac  31.0            White   \n",
       "3       Aabha      F  voltaren  44.0            White   \n",
       "4       Aabid      M  tramadol  24.0            White   \n",
       "...       ...    ...       ...   ...              ...   \n",
       "399956   TRUE      M   lamisil  50.0            White   \n",
       "399957   TRUE      M    klaron  55.0  Hispanic, White   \n",
       "399958   TRUE      M    celexa  57.0            Other   \n",
       "399959   TRUE      F    zoloft  59.0            White   \n",
       "399960   TRUE      M  prilosec  65.0            White   \n",
       "\n",
       "                         SIDE EFFECTS  \n",
       "0                   Mild Side Effects  \n",
       "1       Extremely Severe Side Effects  \n",
       "2                   Mild Side Effects  \n",
       "3                 Severe Side Effects  \n",
       "4                     No Side Effects  \n",
       "...                               ...  \n",
       "399956            Severe Side Effects  \n",
       "399957                No Side Effects  \n",
       "399958            Severe Side Effects  \n",
       "399959                No Side Effects  \n",
       "399960              Mild Side Effects  \n",
       "\n",
       "[399961 rows x 6 columns]"
      ]
     },
     "execution_count": 37,
     "metadata": {},
     "output_type": "execute_result"
    }
   ],
   "source": [
    "df_cleaned"
   ]
  },
  {
   "cell_type": "code",
   "execution_count": 38,
   "id": "c67e9ebf",
   "metadata": {},
   "outputs": [
    {
     "data": {
      "text/plain": [
       "502"
      ]
     },
     "execution_count": 38,
     "metadata": {},
     "output_type": "execute_result"
    }
   ],
   "source": [
    "df_cleaned['DRUG NAME'].nunique()"
   ]
  },
  {
   "cell_type": "code",
   "execution_count": null,
   "id": "ebc63255",
   "metadata": {},
   "outputs": [],
   "source": []
  },
  {
   "cell_type": "code",
   "execution_count": 39,
   "id": "76e87f9e",
   "metadata": {},
   "outputs": [],
   "source": [
    "# Create a list of columns to keep (excluding \"Name\")\n",
    "columns_to_keep = [\"AGE\", \"GENDER\", \"RACE\", \"DRUG NAME\",\"SIDE EFFECTS\"]"
   ]
  },
  {
   "cell_type": "code",
   "execution_count": 40,
   "id": "4d3499a7",
   "metadata": {},
   "outputs": [],
   "source": [
    "# Select only the columns you want to keep\n",
    "df = df_cleaned[columns_to_keep]"
   ]
  },
  {
   "cell_type": "code",
   "execution_count": 41,
   "id": "bc660581",
   "metadata": {},
   "outputs": [
    {
     "data": {
      "text/html": [
       "<div>\n",
       "<style scoped>\n",
       "    .dataframe tbody tr th:only-of-type {\n",
       "        vertical-align: middle;\n",
       "    }\n",
       "\n",
       "    .dataframe tbody tr th {\n",
       "        vertical-align: top;\n",
       "    }\n",
       "\n",
       "    .dataframe thead th {\n",
       "        text-align: right;\n",
       "    }\n",
       "</style>\n",
       "<table border=\"1\" class=\"dataframe\">\n",
       "  <thead>\n",
       "    <tr style=\"text-align: right;\">\n",
       "      <th></th>\n",
       "      <th>AGE</th>\n",
       "      <th>GENDER</th>\n",
       "      <th>RACE</th>\n",
       "      <th>DRUG NAME</th>\n",
       "      <th>SIDE EFFECTS</th>\n",
       "    </tr>\n",
       "  </thead>\n",
       "  <tbody>\n",
       "    <tr>\n",
       "      <th>0</th>\n",
       "      <td>41.0</td>\n",
       "      <td>M</td>\n",
       "      <td>White</td>\n",
       "      <td>topamax</td>\n",
       "      <td>Mild Side Effects</td>\n",
       "    </tr>\n",
       "    <tr>\n",
       "      <th>1</th>\n",
       "      <td>53.0</td>\n",
       "      <td>M</td>\n",
       "      <td>Hispanic, White</td>\n",
       "      <td>zocor</td>\n",
       "      <td>Extremely Severe Side Effects</td>\n",
       "    </tr>\n",
       "    <tr>\n",
       "      <th>2</th>\n",
       "      <td>31.0</td>\n",
       "      <td>F</td>\n",
       "      <td>White</td>\n",
       "      <td>tazorac</td>\n",
       "      <td>Mild Side Effects</td>\n",
       "    </tr>\n",
       "    <tr>\n",
       "      <th>3</th>\n",
       "      <td>44.0</td>\n",
       "      <td>F</td>\n",
       "      <td>White</td>\n",
       "      <td>voltaren</td>\n",
       "      <td>Severe Side Effects</td>\n",
       "    </tr>\n",
       "    <tr>\n",
       "      <th>4</th>\n",
       "      <td>24.0</td>\n",
       "      <td>M</td>\n",
       "      <td>White</td>\n",
       "      <td>tramadol</td>\n",
       "      <td>No Side Effects</td>\n",
       "    </tr>\n",
       "    <tr>\n",
       "      <th>...</th>\n",
       "      <td>...</td>\n",
       "      <td>...</td>\n",
       "      <td>...</td>\n",
       "      <td>...</td>\n",
       "      <td>...</td>\n",
       "    </tr>\n",
       "    <tr>\n",
       "      <th>399956</th>\n",
       "      <td>50.0</td>\n",
       "      <td>M</td>\n",
       "      <td>White</td>\n",
       "      <td>lamisil</td>\n",
       "      <td>Severe Side Effects</td>\n",
       "    </tr>\n",
       "    <tr>\n",
       "      <th>399957</th>\n",
       "      <td>55.0</td>\n",
       "      <td>M</td>\n",
       "      <td>Hispanic, White</td>\n",
       "      <td>klaron</td>\n",
       "      <td>No Side Effects</td>\n",
       "    </tr>\n",
       "    <tr>\n",
       "      <th>399958</th>\n",
       "      <td>57.0</td>\n",
       "      <td>M</td>\n",
       "      <td>Other</td>\n",
       "      <td>celexa</td>\n",
       "      <td>Severe Side Effects</td>\n",
       "    </tr>\n",
       "    <tr>\n",
       "      <th>399959</th>\n",
       "      <td>59.0</td>\n",
       "      <td>F</td>\n",
       "      <td>White</td>\n",
       "      <td>zoloft</td>\n",
       "      <td>No Side Effects</td>\n",
       "    </tr>\n",
       "    <tr>\n",
       "      <th>399960</th>\n",
       "      <td>65.0</td>\n",
       "      <td>M</td>\n",
       "      <td>White</td>\n",
       "      <td>prilosec</td>\n",
       "      <td>Mild Side Effects</td>\n",
       "    </tr>\n",
       "  </tbody>\n",
       "</table>\n",
       "<p>399961 rows × 5 columns</p>\n",
       "</div>"
      ],
      "text/plain": [
       "         AGE GENDER             RACE DRUG NAME                   SIDE EFFECTS\n",
       "0       41.0      M            White   topamax              Mild Side Effects\n",
       "1       53.0      M  Hispanic, White     zocor  Extremely Severe Side Effects\n",
       "2       31.0      F            White   tazorac              Mild Side Effects\n",
       "3       44.0      F            White  voltaren            Severe Side Effects\n",
       "4       24.0      M            White  tramadol                No Side Effects\n",
       "...      ...    ...              ...       ...                            ...\n",
       "399956  50.0      M            White   lamisil            Severe Side Effects\n",
       "399957  55.0      M  Hispanic, White    klaron                No Side Effects\n",
       "399958  57.0      M            Other    celexa            Severe Side Effects\n",
       "399959  59.0      F            White    zoloft                No Side Effects\n",
       "399960  65.0      M            White  prilosec              Mild Side Effects\n",
       "\n",
       "[399961 rows x 5 columns]"
      ]
     },
     "execution_count": 41,
     "metadata": {},
     "output_type": "execute_result"
    }
   ],
   "source": [
    "df"
   ]
  },
  {
   "cell_type": "code",
   "execution_count": 42,
   "id": "8e5ce75e",
   "metadata": {},
   "outputs": [
    {
     "name": "stdout",
     "output_type": "stream",
     "text": [
      "Requirement already satisfied: category_encoders in c:\\users\\yedhu\\anaconda3\\lib\\site-packages (2.6.2)\n",
      "Requirement already satisfied: scikit-learn>=0.20.0 in c:\\users\\yedhu\\anaconda3\\lib\\site-packages (from category_encoders) (1.0.2)\n",
      "Requirement already satisfied: pandas>=1.0.5 in c:\\users\\yedhu\\anaconda3\\lib\\site-packages (from category_encoders) (1.4.2)\n",
      "Requirement already satisfied: patsy>=0.5.1 in c:\\users\\yedhu\\anaconda3\\lib\\site-packages (from category_encoders) (0.5.2)\n",
      "Requirement already satisfied: scipy>=1.0.0 in c:\\users\\yedhu\\anaconda3\\lib\\site-packages (from category_encoders) (1.7.3)\n",
      "Requirement already satisfied: numpy>=1.14.0 in c:\\users\\yedhu\\anaconda3\\lib\\site-packages (from category_encoders) (1.21.5)\n",
      "Requirement already satisfied: statsmodels>=0.9.0 in c:\\users\\yedhu\\anaconda3\\lib\\site-packages (from category_encoders) (0.13.2)\n",
      "Requirement already satisfied: python-dateutil>=2.8.1 in c:\\users\\yedhu\\anaconda3\\lib\\site-packages (from pandas>=1.0.5->category_encoders) (2.8.2)\n",
      "Requirement already satisfied: pytz>=2020.1 in c:\\users\\yedhu\\anaconda3\\lib\\site-packages (from pandas>=1.0.5->category_encoders) (2021.3)\n",
      "Requirement already satisfied: six in c:\\users\\yedhu\\anaconda3\\lib\\site-packages (from patsy>=0.5.1->category_encoders) (1.16.0)\n",
      "Requirement already satisfied: joblib>=0.11 in c:\\users\\yedhu\\anaconda3\\lib\\site-packages (from scikit-learn>=0.20.0->category_encoders) (1.1.0)\n",
      "Requirement already satisfied: threadpoolctl>=2.0.0 in c:\\users\\yedhu\\anaconda3\\lib\\site-packages (from scikit-learn>=0.20.0->category_encoders) (2.2.0)\n",
      "Requirement already satisfied: packaging>=21.3 in c:\\users\\yedhu\\anaconda3\\lib\\site-packages (from statsmodels>=0.9.0->category_encoders) (21.3)\n",
      "Requirement already satisfied: pyparsing!=3.0.5,>=2.0.2 in c:\\users\\yedhu\\anaconda3\\lib\\site-packages (from packaging>=21.3->statsmodels>=0.9.0->category_encoders) (3.0.4)\n",
      "Note: you may need to restart the kernel to use updated packages.\n"
     ]
    }
   ],
   "source": [
    "pip install category_encoders"
   ]
  },
  {
   "cell_type": "code",
   "execution_count": 43,
   "id": "f94b9efc",
   "metadata": {},
   "outputs": [
    {
     "name": "stderr",
     "output_type": "stream",
     "text": [
      "C:\\Users\\yedhu\\AppData\\Local\\Temp\\ipykernel_19056\\1229009394.py:3: SettingWithCopyWarning: \n",
      "A value is trying to be set on a copy of a slice from a DataFrame.\n",
      "Try using .loc[row_indexer,col_indexer] = value instead\n",
      "\n",
      "See the caveats in the documentation: https://pandas.pydata.org/pandas-docs/stable/user_guide/indexing.html#returning-a-view-versus-a-copy\n",
      "  df['RACE'] = le.fit_transform(df['RACE'])\n"
     ]
    }
   ],
   "source": [
    "from sklearn.preprocessing import LabelEncoder\n",
    "le = LabelEncoder()\n",
    "df['RACE'] = le.fit_transform(df['RACE'])"
   ]
  },
  {
   "cell_type": "code",
   "execution_count": 44,
   "id": "885f71a6",
   "metadata": {},
   "outputs": [
    {
     "data": {
      "text/plain": [
       "Index(['AGE', 'GENDER', 'RACE', 'DRUG NAME', 'SIDE EFFECTS'], dtype='object')"
      ]
     },
     "execution_count": 44,
     "metadata": {},
     "output_type": "execute_result"
    }
   ],
   "source": [
    "df.columns"
   ]
  },
  {
   "cell_type": "code",
   "execution_count": 45,
   "id": "9686a459",
   "metadata": {},
   "outputs": [
    {
     "data": {
      "text/html": [
       "<div>\n",
       "<style scoped>\n",
       "    .dataframe tbody tr th:only-of-type {\n",
       "        vertical-align: middle;\n",
       "    }\n",
       "\n",
       "    .dataframe tbody tr th {\n",
       "        vertical-align: top;\n",
       "    }\n",
       "\n",
       "    .dataframe thead th {\n",
       "        text-align: right;\n",
       "    }\n",
       "</style>\n",
       "<table border=\"1\" class=\"dataframe\">\n",
       "  <thead>\n",
       "    <tr style=\"text-align: right;\">\n",
       "      <th></th>\n",
       "      <th>AGE</th>\n",
       "      <th>GENDER</th>\n",
       "      <th>RACE</th>\n",
       "      <th>DRUG NAME</th>\n",
       "      <th>SIDE EFFECTS</th>\n",
       "    </tr>\n",
       "  </thead>\n",
       "  <tbody>\n",
       "    <tr>\n",
       "      <th>0</th>\n",
       "      <td>41.0</td>\n",
       "      <td>M</td>\n",
       "      <td>8</td>\n",
       "      <td>topamax</td>\n",
       "      <td>Mild Side Effects</td>\n",
       "    </tr>\n",
       "    <tr>\n",
       "      <th>1</th>\n",
       "      <td>53.0</td>\n",
       "      <td>M</td>\n",
       "      <td>5</td>\n",
       "      <td>zocor</td>\n",
       "      <td>Extremely Severe Side Effects</td>\n",
       "    </tr>\n",
       "    <tr>\n",
       "      <th>2</th>\n",
       "      <td>31.0</td>\n",
       "      <td>F</td>\n",
       "      <td>8</td>\n",
       "      <td>tazorac</td>\n",
       "      <td>Mild Side Effects</td>\n",
       "    </tr>\n",
       "    <tr>\n",
       "      <th>3</th>\n",
       "      <td>44.0</td>\n",
       "      <td>F</td>\n",
       "      <td>8</td>\n",
       "      <td>voltaren</td>\n",
       "      <td>Severe Side Effects</td>\n",
       "    </tr>\n",
       "    <tr>\n",
       "      <th>4</th>\n",
       "      <td>24.0</td>\n",
       "      <td>M</td>\n",
       "      <td>8</td>\n",
       "      <td>tramadol</td>\n",
       "      <td>No Side Effects</td>\n",
       "    </tr>\n",
       "    <tr>\n",
       "      <th>...</th>\n",
       "      <td>...</td>\n",
       "      <td>...</td>\n",
       "      <td>...</td>\n",
       "      <td>...</td>\n",
       "      <td>...</td>\n",
       "    </tr>\n",
       "    <tr>\n",
       "      <th>399956</th>\n",
       "      <td>50.0</td>\n",
       "      <td>M</td>\n",
       "      <td>8</td>\n",
       "      <td>lamisil</td>\n",
       "      <td>Severe Side Effects</td>\n",
       "    </tr>\n",
       "    <tr>\n",
       "      <th>399957</th>\n",
       "      <td>55.0</td>\n",
       "      <td>M</td>\n",
       "      <td>5</td>\n",
       "      <td>klaron</td>\n",
       "      <td>No Side Effects</td>\n",
       "    </tr>\n",
       "    <tr>\n",
       "      <th>399958</th>\n",
       "      <td>57.0</td>\n",
       "      <td>M</td>\n",
       "      <td>6</td>\n",
       "      <td>celexa</td>\n",
       "      <td>Severe Side Effects</td>\n",
       "    </tr>\n",
       "    <tr>\n",
       "      <th>399959</th>\n",
       "      <td>59.0</td>\n",
       "      <td>F</td>\n",
       "      <td>8</td>\n",
       "      <td>zoloft</td>\n",
       "      <td>No Side Effects</td>\n",
       "    </tr>\n",
       "    <tr>\n",
       "      <th>399960</th>\n",
       "      <td>65.0</td>\n",
       "      <td>M</td>\n",
       "      <td>8</td>\n",
       "      <td>prilosec</td>\n",
       "      <td>Mild Side Effects</td>\n",
       "    </tr>\n",
       "  </tbody>\n",
       "</table>\n",
       "<p>399961 rows × 5 columns</p>\n",
       "</div>"
      ],
      "text/plain": [
       "         AGE GENDER  RACE DRUG NAME                   SIDE EFFECTS\n",
       "0       41.0      M     8   topamax              Mild Side Effects\n",
       "1       53.0      M     5     zocor  Extremely Severe Side Effects\n",
       "2       31.0      F     8   tazorac              Mild Side Effects\n",
       "3       44.0      F     8  voltaren            Severe Side Effects\n",
       "4       24.0      M     8  tramadol                No Side Effects\n",
       "...      ...    ...   ...       ...                            ...\n",
       "399956  50.0      M     8   lamisil            Severe Side Effects\n",
       "399957  55.0      M     5    klaron                No Side Effects\n",
       "399958  57.0      M     6    celexa            Severe Side Effects\n",
       "399959  59.0      F     8    zoloft                No Side Effects\n",
       "399960  65.0      M     8  prilosec              Mild Side Effects\n",
       "\n",
       "[399961 rows x 5 columns]"
      ]
     },
     "execution_count": 45,
     "metadata": {},
     "output_type": "execute_result"
    }
   ],
   "source": [
    "df"
   ]
  },
  {
   "cell_type": "code",
   "execution_count": 46,
   "id": "d0c0e399",
   "metadata": {},
   "outputs": [
    {
     "name": "stderr",
     "output_type": "stream",
     "text": [
      "C:\\Users\\yedhu\\AppData\\Local\\Temp\\ipykernel_19056\\2354619312.py:1: SettingWithCopyWarning: \n",
      "A value is trying to be set on a copy of a slice from a DataFrame.\n",
      "Try using .loc[row_indexer,col_indexer] = value instead\n",
      "\n",
      "See the caveats in the documentation: https://pandas.pydata.org/pandas-docs/stable/user_guide/indexing.html#returning-a-view-versus-a-copy\n",
      "  df['SIDE EFFECTS'] = le.fit_transform(df['SIDE EFFECTS'])\n"
     ]
    }
   ],
   "source": [
    "df['SIDE EFFECTS'] = le.fit_transform(df['SIDE EFFECTS'])"
   ]
  },
  {
   "cell_type": "code",
   "execution_count": 47,
   "id": "9b1f11a2",
   "metadata": {},
   "outputs": [
    {
     "data": {
      "text/html": [
       "<div>\n",
       "<style scoped>\n",
       "    .dataframe tbody tr th:only-of-type {\n",
       "        vertical-align: middle;\n",
       "    }\n",
       "\n",
       "    .dataframe tbody tr th {\n",
       "        vertical-align: top;\n",
       "    }\n",
       "\n",
       "    .dataframe thead th {\n",
       "        text-align: right;\n",
       "    }\n",
       "</style>\n",
       "<table border=\"1\" class=\"dataframe\">\n",
       "  <thead>\n",
       "    <tr style=\"text-align: right;\">\n",
       "      <th></th>\n",
       "      <th>AGE</th>\n",
       "      <th>GENDER</th>\n",
       "      <th>RACE</th>\n",
       "      <th>DRUG NAME</th>\n",
       "      <th>SIDE EFFECTS</th>\n",
       "    </tr>\n",
       "  </thead>\n",
       "  <tbody>\n",
       "    <tr>\n",
       "      <th>0</th>\n",
       "      <td>41.0</td>\n",
       "      <td>M</td>\n",
       "      <td>8</td>\n",
       "      <td>topamax</td>\n",
       "      <td>1</td>\n",
       "    </tr>\n",
       "    <tr>\n",
       "      <th>1</th>\n",
       "      <td>53.0</td>\n",
       "      <td>M</td>\n",
       "      <td>5</td>\n",
       "      <td>zocor</td>\n",
       "      <td>0</td>\n",
       "    </tr>\n",
       "    <tr>\n",
       "      <th>2</th>\n",
       "      <td>31.0</td>\n",
       "      <td>F</td>\n",
       "      <td>8</td>\n",
       "      <td>tazorac</td>\n",
       "      <td>1</td>\n",
       "    </tr>\n",
       "    <tr>\n",
       "      <th>3</th>\n",
       "      <td>44.0</td>\n",
       "      <td>F</td>\n",
       "      <td>8</td>\n",
       "      <td>voltaren</td>\n",
       "      <td>4</td>\n",
       "    </tr>\n",
       "    <tr>\n",
       "      <th>4</th>\n",
       "      <td>24.0</td>\n",
       "      <td>M</td>\n",
       "      <td>8</td>\n",
       "      <td>tramadol</td>\n",
       "      <td>3</td>\n",
       "    </tr>\n",
       "    <tr>\n",
       "      <th>...</th>\n",
       "      <td>...</td>\n",
       "      <td>...</td>\n",
       "      <td>...</td>\n",
       "      <td>...</td>\n",
       "      <td>...</td>\n",
       "    </tr>\n",
       "    <tr>\n",
       "      <th>399956</th>\n",
       "      <td>50.0</td>\n",
       "      <td>M</td>\n",
       "      <td>8</td>\n",
       "      <td>lamisil</td>\n",
       "      <td>4</td>\n",
       "    </tr>\n",
       "    <tr>\n",
       "      <th>399957</th>\n",
       "      <td>55.0</td>\n",
       "      <td>M</td>\n",
       "      <td>5</td>\n",
       "      <td>klaron</td>\n",
       "      <td>3</td>\n",
       "    </tr>\n",
       "    <tr>\n",
       "      <th>399958</th>\n",
       "      <td>57.0</td>\n",
       "      <td>M</td>\n",
       "      <td>6</td>\n",
       "      <td>celexa</td>\n",
       "      <td>4</td>\n",
       "    </tr>\n",
       "    <tr>\n",
       "      <th>399959</th>\n",
       "      <td>59.0</td>\n",
       "      <td>F</td>\n",
       "      <td>8</td>\n",
       "      <td>zoloft</td>\n",
       "      <td>3</td>\n",
       "    </tr>\n",
       "    <tr>\n",
       "      <th>399960</th>\n",
       "      <td>65.0</td>\n",
       "      <td>M</td>\n",
       "      <td>8</td>\n",
       "      <td>prilosec</td>\n",
       "      <td>1</td>\n",
       "    </tr>\n",
       "  </tbody>\n",
       "</table>\n",
       "<p>399961 rows × 5 columns</p>\n",
       "</div>"
      ],
      "text/plain": [
       "         AGE GENDER  RACE DRUG NAME  SIDE EFFECTS\n",
       "0       41.0      M     8   topamax             1\n",
       "1       53.0      M     5     zocor             0\n",
       "2       31.0      F     8   tazorac             1\n",
       "3       44.0      F     8  voltaren             4\n",
       "4       24.0      M     8  tramadol             3\n",
       "...      ...    ...   ...       ...           ...\n",
       "399956  50.0      M     8   lamisil             4\n",
       "399957  55.0      M     5    klaron             3\n",
       "399958  57.0      M     6    celexa             4\n",
       "399959  59.0      F     8    zoloft             3\n",
       "399960  65.0      M     8  prilosec             1\n",
       "\n",
       "[399961 rows x 5 columns]"
      ]
     },
     "execution_count": 47,
     "metadata": {},
     "output_type": "execute_result"
    }
   ],
   "source": [
    "df"
   ]
  },
  {
   "cell_type": "code",
   "execution_count": 48,
   "id": "12c30d36",
   "metadata": {},
   "outputs": [],
   "source": [
    "# Use the pandas get_dummies function for one-hot encoding\n",
    "df_encoded = pd.get_dummies(df, columns=[\"GENDER\"])"
   ]
  },
  {
   "cell_type": "code",
   "execution_count": 49,
   "id": "c5f40182",
   "metadata": {},
   "outputs": [
    {
     "data": {
      "text/html": [
       "<div>\n",
       "<style scoped>\n",
       "    .dataframe tbody tr th:only-of-type {\n",
       "        vertical-align: middle;\n",
       "    }\n",
       "\n",
       "    .dataframe tbody tr th {\n",
       "        vertical-align: top;\n",
       "    }\n",
       "\n",
       "    .dataframe thead th {\n",
       "        text-align: right;\n",
       "    }\n",
       "</style>\n",
       "<table border=\"1\" class=\"dataframe\">\n",
       "  <thead>\n",
       "    <tr style=\"text-align: right;\">\n",
       "      <th></th>\n",
       "      <th>AGE</th>\n",
       "      <th>RACE</th>\n",
       "      <th>DRUG NAME</th>\n",
       "      <th>SIDE EFFECTS</th>\n",
       "      <th>GENDER_F</th>\n",
       "      <th>GENDER_M</th>\n",
       "    </tr>\n",
       "  </thead>\n",
       "  <tbody>\n",
       "    <tr>\n",
       "      <th>0</th>\n",
       "      <td>41.0</td>\n",
       "      <td>8</td>\n",
       "      <td>topamax</td>\n",
       "      <td>1</td>\n",
       "      <td>0</td>\n",
       "      <td>1</td>\n",
       "    </tr>\n",
       "    <tr>\n",
       "      <th>1</th>\n",
       "      <td>53.0</td>\n",
       "      <td>5</td>\n",
       "      <td>zocor</td>\n",
       "      <td>0</td>\n",
       "      <td>0</td>\n",
       "      <td>1</td>\n",
       "    </tr>\n",
       "    <tr>\n",
       "      <th>2</th>\n",
       "      <td>31.0</td>\n",
       "      <td>8</td>\n",
       "      <td>tazorac</td>\n",
       "      <td>1</td>\n",
       "      <td>1</td>\n",
       "      <td>0</td>\n",
       "    </tr>\n",
       "    <tr>\n",
       "      <th>3</th>\n",
       "      <td>44.0</td>\n",
       "      <td>8</td>\n",
       "      <td>voltaren</td>\n",
       "      <td>4</td>\n",
       "      <td>1</td>\n",
       "      <td>0</td>\n",
       "    </tr>\n",
       "    <tr>\n",
       "      <th>4</th>\n",
       "      <td>24.0</td>\n",
       "      <td>8</td>\n",
       "      <td>tramadol</td>\n",
       "      <td>3</td>\n",
       "      <td>0</td>\n",
       "      <td>1</td>\n",
       "    </tr>\n",
       "    <tr>\n",
       "      <th>...</th>\n",
       "      <td>...</td>\n",
       "      <td>...</td>\n",
       "      <td>...</td>\n",
       "      <td>...</td>\n",
       "      <td>...</td>\n",
       "      <td>...</td>\n",
       "    </tr>\n",
       "    <tr>\n",
       "      <th>399956</th>\n",
       "      <td>50.0</td>\n",
       "      <td>8</td>\n",
       "      <td>lamisil</td>\n",
       "      <td>4</td>\n",
       "      <td>0</td>\n",
       "      <td>1</td>\n",
       "    </tr>\n",
       "    <tr>\n",
       "      <th>399957</th>\n",
       "      <td>55.0</td>\n",
       "      <td>5</td>\n",
       "      <td>klaron</td>\n",
       "      <td>3</td>\n",
       "      <td>0</td>\n",
       "      <td>1</td>\n",
       "    </tr>\n",
       "    <tr>\n",
       "      <th>399958</th>\n",
       "      <td>57.0</td>\n",
       "      <td>6</td>\n",
       "      <td>celexa</td>\n",
       "      <td>4</td>\n",
       "      <td>0</td>\n",
       "      <td>1</td>\n",
       "    </tr>\n",
       "    <tr>\n",
       "      <th>399959</th>\n",
       "      <td>59.0</td>\n",
       "      <td>8</td>\n",
       "      <td>zoloft</td>\n",
       "      <td>3</td>\n",
       "      <td>1</td>\n",
       "      <td>0</td>\n",
       "    </tr>\n",
       "    <tr>\n",
       "      <th>399960</th>\n",
       "      <td>65.0</td>\n",
       "      <td>8</td>\n",
       "      <td>prilosec</td>\n",
       "      <td>1</td>\n",
       "      <td>0</td>\n",
       "      <td>1</td>\n",
       "    </tr>\n",
       "  </tbody>\n",
       "</table>\n",
       "<p>399961 rows × 6 columns</p>\n",
       "</div>"
      ],
      "text/plain": [
       "         AGE  RACE DRUG NAME  SIDE EFFECTS  GENDER_F  GENDER_M\n",
       "0       41.0     8   topamax             1         0         1\n",
       "1       53.0     5     zocor             0         0         1\n",
       "2       31.0     8   tazorac             1         1         0\n",
       "3       44.0     8  voltaren             4         1         0\n",
       "4       24.0     8  tramadol             3         0         1\n",
       "...      ...   ...       ...           ...       ...       ...\n",
       "399956  50.0     8   lamisil             4         0         1\n",
       "399957  55.0     5    klaron             3         0         1\n",
       "399958  57.0     6    celexa             4         0         1\n",
       "399959  59.0     8    zoloft             3         1         0\n",
       "399960  65.0     8  prilosec             1         0         1\n",
       "\n",
       "[399961 rows x 6 columns]"
      ]
     },
     "execution_count": 49,
     "metadata": {},
     "output_type": "execute_result"
    }
   ],
   "source": [
    "df_encoded"
   ]
  },
  {
   "cell_type": "markdown",
   "id": "45159034",
   "metadata": {},
   "source": [
    "# Target Encoding (Mean Encoding):"
   ]
  },
  {
   "cell_type": "code",
   "execution_count": 50,
   "id": "da9955c3",
   "metadata": {},
   "outputs": [],
   "source": [
    "from category_encoders import TargetEncoder"
   ]
  },
  {
   "cell_type": "code",
   "execution_count": 51,
   "id": "d3741cc7",
   "metadata": {},
   "outputs": [],
   "source": [
    "# Initialize the TargetEncoder\n",
    "encoder = TargetEncoder(cols=['DRUG NAME'])"
   ]
  },
  {
   "cell_type": "code",
   "execution_count": 52,
   "id": "d48bbc50",
   "metadata": {},
   "outputs": [
    {
     "data": {
      "text/plain": [
       "TargetEncoder(cols=['DRUG NAME'])"
      ]
     },
     "execution_count": 52,
     "metadata": {},
     "output_type": "execute_result"
    }
   ],
   "source": [
    "# Fit the encoder on your dataset\n",
    "encoder.fit(df_encoded['DRUG NAME'], df_encoded['SIDE EFFECTS'])"
   ]
  },
  {
   "cell_type": "code",
   "execution_count": 53,
   "id": "d57d9626",
   "metadata": {},
   "outputs": [],
   "source": [
    "# Transform the \"DRUG NAME\" column with the encoded values\n",
    "df_encoded['DRUG NAME'] = encoder.transform(df_encoded['DRUG NAME'])"
   ]
  },
  {
   "cell_type": "code",
   "execution_count": 54,
   "id": "c6b084ce",
   "metadata": {
    "scrolled": true
   },
   "outputs": [
    {
     "data": {
      "text/html": [
       "<div>\n",
       "<style scoped>\n",
       "    .dataframe tbody tr th:only-of-type {\n",
       "        vertical-align: middle;\n",
       "    }\n",
       "\n",
       "    .dataframe tbody tr th {\n",
       "        vertical-align: top;\n",
       "    }\n",
       "\n",
       "    .dataframe thead th {\n",
       "        text-align: right;\n",
       "    }\n",
       "</style>\n",
       "<table border=\"1\" class=\"dataframe\">\n",
       "  <thead>\n",
       "    <tr style=\"text-align: right;\">\n",
       "      <th></th>\n",
       "      <th>AGE</th>\n",
       "      <th>RACE</th>\n",
       "      <th>DRUG NAME</th>\n",
       "      <th>SIDE EFFECTS</th>\n",
       "      <th>GENDER_F</th>\n",
       "      <th>GENDER_M</th>\n",
       "    </tr>\n",
       "  </thead>\n",
       "  <tbody>\n",
       "    <tr>\n",
       "      <th>0</th>\n",
       "      <td>41.0</td>\n",
       "      <td>8</td>\n",
       "      <td>1.160710</td>\n",
       "      <td>1</td>\n",
       "      <td>0</td>\n",
       "      <td>1</td>\n",
       "    </tr>\n",
       "    <tr>\n",
       "      <th>1</th>\n",
       "      <td>53.0</td>\n",
       "      <td>5</td>\n",
       "      <td>0.270096</td>\n",
       "      <td>0</td>\n",
       "      <td>0</td>\n",
       "      <td>1</td>\n",
       "    </tr>\n",
       "    <tr>\n",
       "      <th>2</th>\n",
       "      <td>31.0</td>\n",
       "      <td>8</td>\n",
       "      <td>1.423009</td>\n",
       "      <td>1</td>\n",
       "      <td>1</td>\n",
       "      <td>0</td>\n",
       "    </tr>\n",
       "    <tr>\n",
       "      <th>3</th>\n",
       "      <td>44.0</td>\n",
       "      <td>8</td>\n",
       "      <td>2.631914</td>\n",
       "      <td>4</td>\n",
       "      <td>1</td>\n",
       "      <td>0</td>\n",
       "    </tr>\n",
       "    <tr>\n",
       "      <th>4</th>\n",
       "      <td>24.0</td>\n",
       "      <td>8</td>\n",
       "      <td>2.265635</td>\n",
       "      <td>3</td>\n",
       "      <td>0</td>\n",
       "      <td>1</td>\n",
       "    </tr>\n",
       "    <tr>\n",
       "      <th>...</th>\n",
       "      <td>...</td>\n",
       "      <td>...</td>\n",
       "      <td>...</td>\n",
       "      <td>...</td>\n",
       "      <td>...</td>\n",
       "      <td>...</td>\n",
       "    </tr>\n",
       "    <tr>\n",
       "      <th>399956</th>\n",
       "      <td>50.0</td>\n",
       "      <td>8</td>\n",
       "      <td>3.303950</td>\n",
       "      <td>4</td>\n",
       "      <td>0</td>\n",
       "      <td>1</td>\n",
       "    </tr>\n",
       "    <tr>\n",
       "      <th>399957</th>\n",
       "      <td>55.0</td>\n",
       "      <td>5</td>\n",
       "      <td>3.000000</td>\n",
       "      <td>3</td>\n",
       "      <td>0</td>\n",
       "      <td>1</td>\n",
       "    </tr>\n",
       "    <tr>\n",
       "      <th>399958</th>\n",
       "      <td>57.0</td>\n",
       "      <td>6</td>\n",
       "      <td>2.886569</td>\n",
       "      <td>4</td>\n",
       "      <td>0</td>\n",
       "      <td>1</td>\n",
       "    </tr>\n",
       "    <tr>\n",
       "      <th>399959</th>\n",
       "      <td>59.0</td>\n",
       "      <td>8</td>\n",
       "      <td>2.680885</td>\n",
       "      <td>3</td>\n",
       "      <td>1</td>\n",
       "      <td>0</td>\n",
       "    </tr>\n",
       "    <tr>\n",
       "      <th>399960</th>\n",
       "      <td>65.0</td>\n",
       "      <td>8</td>\n",
       "      <td>2.034188</td>\n",
       "      <td>1</td>\n",
       "      <td>0</td>\n",
       "      <td>1</td>\n",
       "    </tr>\n",
       "  </tbody>\n",
       "</table>\n",
       "<p>399961 rows × 6 columns</p>\n",
       "</div>"
      ],
      "text/plain": [
       "         AGE  RACE  DRUG NAME  SIDE EFFECTS  GENDER_F  GENDER_M\n",
       "0       41.0     8   1.160710             1         0         1\n",
       "1       53.0     5   0.270096             0         0         1\n",
       "2       31.0     8   1.423009             1         1         0\n",
       "3       44.0     8   2.631914             4         1         0\n",
       "4       24.0     8   2.265635             3         0         1\n",
       "...      ...   ...        ...           ...       ...       ...\n",
       "399956  50.0     8   3.303950             4         0         1\n",
       "399957  55.0     5   3.000000             3         0         1\n",
       "399958  57.0     6   2.886569             4         0         1\n",
       "399959  59.0     8   2.680885             3         1         0\n",
       "399960  65.0     8   2.034188             1         0         1\n",
       "\n",
       "[399961 rows x 6 columns]"
      ]
     },
     "execution_count": 54,
     "metadata": {},
     "output_type": "execute_result"
    }
   ],
   "source": [
    "df_encoded"
   ]
  },
  {
   "cell_type": "code",
   "execution_count": 55,
   "id": "93a392d8",
   "metadata": {},
   "outputs": [],
   "source": [
    "from sklearn.preprocessing import StandardScaler"
   ]
  },
  {
   "cell_type": "code",
   "execution_count": 56,
   "id": "af0f15af",
   "metadata": {},
   "outputs": [],
   "source": [
    "# Assuming df is your DataFrame containing the features to be scaled\n",
    "scaler = StandardScaler()\n",
    "scaled_features = scaler.fit_transform(df_encoded)\n",
    "df_scaled = pd.DataFrame(scaled_features, columns=df_encoded.columns)"
   ]
  },
  {
   "cell_type": "code",
   "execution_count": null,
   "id": "733386a5",
   "metadata": {},
   "outputs": [],
   "source": []
  },
  {
   "cell_type": "code",
   "execution_count": null,
   "id": "d2bbabdf",
   "metadata": {},
   "outputs": [],
   "source": []
  }
 ],
 "metadata": {
  "kernelspec": {
   "display_name": "Python 3 (ipykernel)",
   "language": "python",
   "name": "python3"
  },
  "language_info": {
   "codemirror_mode": {
    "name": "ipython",
    "version": 3
   },
   "file_extension": ".py",
   "mimetype": "text/x-python",
   "name": "python",
   "nbconvert_exporter": "python",
   "pygments_lexer": "ipython3",
   "version": "3.9.12"
  }
 },
 "nbformat": 4,
 "nbformat_minor": 5
}
